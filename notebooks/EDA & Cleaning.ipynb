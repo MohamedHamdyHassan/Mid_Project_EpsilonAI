{
 "cells": [
  {
   "cell_type": "markdown",
   "id": "fc2170ca",
   "metadata": {},
   "source": [
    "# Glaucoma Detection Dataset\n",
    "\n",
    "## Purpose\n",
    "> ##### --> A dataset containing all the required fields to build AI/ML models to detect glaucoma\n",
    "\n",
    "## Description\n",
    "> ##### --> 10,000 records of glaucoma detection dataset, containing:\n",
    "\n",
    "        -   Patient ID\n",
    "        -   Age\n",
    "        -   Gender\n",
    "        -   Visual Acuity Measurements\n",
    "        -   Intraocular Pressure (IOP)\n",
    "        -   Cup-to-Disc Ratio (CDR)\n",
    "        -   Family History\n",
    "        -   Medical History\n",
    "        -   Medication Usage\n",
    "        -   Visual Field Test Results\n",
    "        -   Optical Coherence Tomography (OCT) Results\n",
    "        -   Pachymetry\n",
    "        -   Cataract Status\n",
    "        -   Angle Closure Status\n",
    "        -   Visual Symptoms\n",
    "        -   Diagnosis\n",
    "        -   Glaucoma Type"
   ]
  },
  {
   "cell_type": "code",
   "execution_count": 1,
   "id": "1190528f",
   "metadata": {},
   "outputs": [],
   "source": [
    "# Create Libraries\n",
    "\n",
    "import pandas as pd\n",
    "import numpy as np"
   ]
  },
  {
   "cell_type": "code",
   "execution_count": 2,
   "id": "02efbb85",
   "metadata": {},
   "outputs": [],
   "source": [
    "# Read The File\n",
    "raw_df=pd.read_csv('../data/raw/glaucoma_dataset.csv')"
   ]
  },
  {
   "cell_type": "code",
   "execution_count": 3,
   "id": "0d23435f",
   "metadata": {},
   "outputs": [
    {
     "data": {
      "text/html": [
       "<div>\n",
       "<style scoped>\n",
       "    .dataframe tbody tr th:only-of-type {\n",
       "        vertical-align: middle;\n",
       "    }\n",
       "\n",
       "    .dataframe tbody tr th {\n",
       "        vertical-align: top;\n",
       "    }\n",
       "\n",
       "    .dataframe thead th {\n",
       "        text-align: right;\n",
       "    }\n",
       "</style>\n",
       "<table border=\"1\" class=\"dataframe\">\n",
       "  <thead>\n",
       "    <tr style=\"text-align: right;\">\n",
       "      <th></th>\n",
       "      <th>Patient ID</th>\n",
       "      <th>Age</th>\n",
       "      <th>Gender</th>\n",
       "      <th>Visual Acuity Measurements</th>\n",
       "      <th>Intraocular Pressure (IOP)</th>\n",
       "      <th>Cup-to-Disc Ratio (CDR)</th>\n",
       "      <th>Family History</th>\n",
       "      <th>Medical History</th>\n",
       "      <th>Medication Usage</th>\n",
       "      <th>Visual Field Test Results</th>\n",
       "      <th>Optical Coherence Tomography (OCT) Results</th>\n",
       "      <th>Pachymetry</th>\n",
       "      <th>Cataract Status</th>\n",
       "      <th>Angle Closure Status</th>\n",
       "      <th>Visual Symptoms</th>\n",
       "      <th>Diagnosis</th>\n",
       "      <th>Glaucoma Type</th>\n",
       "    </tr>\n",
       "  </thead>\n",
       "  <tbody>\n",
       "    <tr>\n",
       "      <th>0</th>\n",
       "      <td>62431</td>\n",
       "      <td>69</td>\n",
       "      <td>Male</td>\n",
       "      <td>LogMAR 0.1</td>\n",
       "      <td>19.46</td>\n",
       "      <td>0.42</td>\n",
       "      <td>No</td>\n",
       "      <td>Diabetes</td>\n",
       "      <td>Amoxicillin, Lisinopril, Omeprazole, Atorvasta...</td>\n",
       "      <td>Sensitivity: 0.54, Specificity: 0.75</td>\n",
       "      <td>RNFL Thickness: 86.48 µm, GCC Thickness: 64.14...</td>\n",
       "      <td>541.51</td>\n",
       "      <td>Present</td>\n",
       "      <td>Open</td>\n",
       "      <td>Tunnel vision, Eye pain, Nausea</td>\n",
       "      <td>No Glaucoma</td>\n",
       "      <td>Primary Open-Angle Glaucoma</td>\n",
       "    </tr>\n",
       "    <tr>\n",
       "      <th>1</th>\n",
       "      <td>68125</td>\n",
       "      <td>69</td>\n",
       "      <td>Female</td>\n",
       "      <td>LogMAR 0.1</td>\n",
       "      <td>18.39</td>\n",
       "      <td>0.72</td>\n",
       "      <td>No</td>\n",
       "      <td>Hypertension</td>\n",
       "      <td>Lisinopril, Amoxicillin, Atorvastatin, Ibuprof...</td>\n",
       "      <td>Sensitivity: 0.72, Specificity: 0.88</td>\n",
       "      <td>RNFL Thickness: 96.88 µm, GCC Thickness: 56.48...</td>\n",
       "      <td>552.77</td>\n",
       "      <td>Absent</td>\n",
       "      <td>Open</td>\n",
       "      <td>Redness in the eye, Vision loss, Tunnel vision</td>\n",
       "      <td>No Glaucoma</td>\n",
       "      <td>Juvenile Glaucoma</td>\n",
       "    </tr>\n",
       "    <tr>\n",
       "      <th>2</th>\n",
       "      <td>63329</td>\n",
       "      <td>67</td>\n",
       "      <td>Female</td>\n",
       "      <td>20/40</td>\n",
       "      <td>23.65</td>\n",
       "      <td>0.72</td>\n",
       "      <td>No</td>\n",
       "      <td>Hypertension</td>\n",
       "      <td>Amoxicillin, Ibuprofen, Metformin, Atorvastati...</td>\n",
       "      <td>Sensitivity: 0.56, Specificity: 0.8</td>\n",
       "      <td>RNFL Thickness: 89.81 µm, GCC Thickness: 59.05...</td>\n",
       "      <td>573.65</td>\n",
       "      <td>Absent</td>\n",
       "      <td>Closed</td>\n",
       "      <td>Halos around lights, Vision loss, Redness in t...</td>\n",
       "      <td>No Glaucoma</td>\n",
       "      <td>Juvenile Glaucoma</td>\n",
       "    </tr>\n",
       "    <tr>\n",
       "      <th>3</th>\n",
       "      <td>47174</td>\n",
       "      <td>23</td>\n",
       "      <td>Male</td>\n",
       "      <td>LogMAR 0.0</td>\n",
       "      <td>18.04</td>\n",
       "      <td>0.61</td>\n",
       "      <td>No</td>\n",
       "      <td>NaN</td>\n",
       "      <td>Ibuprofen, Aspirin</td>\n",
       "      <td>Sensitivity: 0.6, Specificity: 0.93</td>\n",
       "      <td>RNFL Thickness: 87.25 µm, GCC Thickness: 63.98...</td>\n",
       "      <td>590.67</td>\n",
       "      <td>Absent</td>\n",
       "      <td>Closed</td>\n",
       "      <td>Nausea, Nausea, Halos around lights</td>\n",
       "      <td>No Glaucoma</td>\n",
       "      <td>Congenital Glaucoma</td>\n",
       "    </tr>\n",
       "    <tr>\n",
       "      <th>4</th>\n",
       "      <td>67361</td>\n",
       "      <td>21</td>\n",
       "      <td>Male</td>\n",
       "      <td>LogMAR 0.1</td>\n",
       "      <td>15.87</td>\n",
       "      <td>0.30</td>\n",
       "      <td>No</td>\n",
       "      <td>Diabetes</td>\n",
       "      <td>Amoxicillin, Omeprazole, Aspirin, Ibuprofen, A...</td>\n",
       "      <td>Sensitivity: 0.82, Specificity: 0.9</td>\n",
       "      <td>RNFL Thickness: 82.61 µm, GCC Thickness: 66.01...</td>\n",
       "      <td>588.41</td>\n",
       "      <td>Absent</td>\n",
       "      <td>Closed</td>\n",
       "      <td>Eye pain, Eye pain, Tunnel vision</td>\n",
       "      <td>No Glaucoma</td>\n",
       "      <td>Primary Open-Angle Glaucoma</td>\n",
       "    </tr>\n",
       "  </tbody>\n",
       "</table>\n",
       "</div>"
      ],
      "text/plain": [
       "   Patient ID  Age  Gender Visual Acuity Measurements  \\\n",
       "0       62431   69    Male                 LogMAR 0.1   \n",
       "1       68125   69  Female                 LogMAR 0.1   \n",
       "2       63329   67  Female                      20/40   \n",
       "3       47174   23    Male                 LogMAR 0.0   \n",
       "4       67361   21    Male                 LogMAR 0.1   \n",
       "\n",
       "   Intraocular Pressure (IOP)  Cup-to-Disc Ratio (CDR) Family History  \\\n",
       "0                       19.46                     0.42             No   \n",
       "1                       18.39                     0.72             No   \n",
       "2                       23.65                     0.72             No   \n",
       "3                       18.04                     0.61             No   \n",
       "4                       15.87                     0.30             No   \n",
       "\n",
       "  Medical History                                   Medication Usage  \\\n",
       "0        Diabetes  Amoxicillin, Lisinopril, Omeprazole, Atorvasta...   \n",
       "1    Hypertension  Lisinopril, Amoxicillin, Atorvastatin, Ibuprof...   \n",
       "2    Hypertension  Amoxicillin, Ibuprofen, Metformin, Atorvastati...   \n",
       "3             NaN                                 Ibuprofen, Aspirin   \n",
       "4        Diabetes  Amoxicillin, Omeprazole, Aspirin, Ibuprofen, A...   \n",
       "\n",
       "              Visual Field Test Results  \\\n",
       "0  Sensitivity: 0.54, Specificity: 0.75   \n",
       "1  Sensitivity: 0.72, Specificity: 0.88   \n",
       "2   Sensitivity: 0.56, Specificity: 0.8   \n",
       "3   Sensitivity: 0.6, Specificity: 0.93   \n",
       "4   Sensitivity: 0.82, Specificity: 0.9   \n",
       "\n",
       "          Optical Coherence Tomography (OCT) Results  Pachymetry  \\\n",
       "0  RNFL Thickness: 86.48 µm, GCC Thickness: 64.14...      541.51   \n",
       "1  RNFL Thickness: 96.88 µm, GCC Thickness: 56.48...      552.77   \n",
       "2  RNFL Thickness: 89.81 µm, GCC Thickness: 59.05...      573.65   \n",
       "3  RNFL Thickness: 87.25 µm, GCC Thickness: 63.98...      590.67   \n",
       "4  RNFL Thickness: 82.61 µm, GCC Thickness: 66.01...      588.41   \n",
       "\n",
       "  Cataract Status Angle Closure Status  \\\n",
       "0         Present                 Open   \n",
       "1          Absent                 Open   \n",
       "2          Absent               Closed   \n",
       "3          Absent               Closed   \n",
       "4          Absent               Closed   \n",
       "\n",
       "                                     Visual Symptoms    Diagnosis  \\\n",
       "0                    Tunnel vision, Eye pain, Nausea  No Glaucoma   \n",
       "1     Redness in the eye, Vision loss, Tunnel vision  No Glaucoma   \n",
       "2  Halos around lights, Vision loss, Redness in t...  No Glaucoma   \n",
       "3                Nausea, Nausea, Halos around lights  No Glaucoma   \n",
       "4                  Eye pain, Eye pain, Tunnel vision  No Glaucoma   \n",
       "\n",
       "                 Glaucoma Type  \n",
       "0  Primary Open-Angle Glaucoma  \n",
       "1            Juvenile Glaucoma  \n",
       "2            Juvenile Glaucoma  \n",
       "3          Congenital Glaucoma  \n",
       "4  Primary Open-Angle Glaucoma  "
      ]
     },
     "execution_count": 3,
     "metadata": {},
     "output_type": "execute_result"
    }
   ],
   "source": [
    "df=raw_df.copy()\n",
    "df.head()"
   ]
  },
  {
   "cell_type": "markdown",
   "id": "7a1b89ac",
   "metadata": {},
   "source": [
    "# EDA (Explotary Data Analysis)"
   ]
  },
  {
   "cell_type": "code",
   "execution_count": 4,
   "id": "7683bab5",
   "metadata": {},
   "outputs": [
    {
     "data": {
      "text/plain": [
       "(10000, 17)"
      ]
     },
     "execution_count": 4,
     "metadata": {},
     "output_type": "execute_result"
    }
   ],
   "source": [
    "# (Row,Col)\n",
    "df.shape"
   ]
  },
  {
   "cell_type": "code",
   "execution_count": 5,
   "id": "3fb00f06",
   "metadata": {},
   "outputs": [
    {
     "name": "stdout",
     "output_type": "stream",
     "text": [
      "<class 'pandas.core.frame.DataFrame'>\n",
      "RangeIndex: 10000 entries, 0 to 9999\n",
      "Data columns (total 17 columns):\n",
      " #   Column                                      Non-Null Count  Dtype  \n",
      "---  ------                                      --------------  -----  \n",
      " 0   Patient ID                                  10000 non-null  int64  \n",
      " 1   Age                                         10000 non-null  int64  \n",
      " 2   Gender                                      10000 non-null  object \n",
      " 3   Visual Acuity Measurements                  10000 non-null  object \n",
      " 4   Intraocular Pressure (IOP)                  10000 non-null  float64\n",
      " 5   Cup-to-Disc Ratio (CDR)                     10000 non-null  float64\n",
      " 6   Family History                              10000 non-null  object \n",
      " 7   Medical History                             7453 non-null   object \n",
      " 8   Medication Usage                            8769 non-null   object \n",
      " 9   Visual Field Test Results                   10000 non-null  object \n",
      " 10  Optical Coherence Tomography (OCT) Results  10000 non-null  object \n",
      " 11  Pachymetry                                  10000 non-null  float64\n",
      " 12  Cataract Status                             10000 non-null  object \n",
      " 13  Angle Closure Status                        10000 non-null  object \n",
      " 14  Visual Symptoms                             10000 non-null  object \n",
      " 15  Diagnosis                                   10000 non-null  object \n",
      " 16  Glaucoma Type                               10000 non-null  object \n",
      "dtypes: float64(3), int64(2), object(12)\n",
      "memory usage: 1.3+ MB\n"
     ]
    }
   ],
   "source": [
    "df.info()"
   ]
  },
  {
   "cell_type": "code",
   "execution_count": 6,
   "id": "16616821",
   "metadata": {},
   "outputs": [
    {
     "data": {
      "text/plain": [
       "Patient ID                                     0.00\n",
       "Age                                            0.00\n",
       "Gender                                         0.00\n",
       "Visual Acuity Measurements                     0.00\n",
       "Intraocular Pressure (IOP)                     0.00\n",
       "Cup-to-Disc Ratio (CDR)                        0.00\n",
       "Family History                                 0.00\n",
       "Medical History                               25.47\n",
       "Medication Usage                              12.31\n",
       "Visual Field Test Results                      0.00\n",
       "Optical Coherence Tomography (OCT) Results     0.00\n",
       "Pachymetry                                     0.00\n",
       "Cataract Status                                0.00\n",
       "Angle Closure Status                           0.00\n",
       "Visual Symptoms                                0.00\n",
       "Diagnosis                                      0.00\n",
       "Glaucoma Type                                  0.00\n",
       "dtype: float64"
      ]
     },
     "execution_count": 6,
     "metadata": {},
     "output_type": "execute_result"
    }
   ],
   "source": [
    "# The Percentage of Nulls\n",
    "df.isnull().sum()/len(df)*100"
   ]
  },
  {
   "cell_type": "code",
   "execution_count": 7,
   "id": "bfe118ff",
   "metadata": {},
   "outputs": [
    {
     "data": {
      "text/plain": [
       "Index(['Patient ID', 'Age', 'Gender', 'Visual Acuity Measurements',\n",
       "       'Intraocular Pressure (IOP)', 'Cup-to-Disc Ratio (CDR)',\n",
       "       'Family History', 'Medical History', 'Medication Usage',\n",
       "       'Visual Field Test Results',\n",
       "       'Optical Coherence Tomography (OCT) Results', 'Pachymetry',\n",
       "       'Cataract Status', 'Angle Closure Status', 'Visual Symptoms',\n",
       "       'Diagnosis', 'Glaucoma Type'],\n",
       "      dtype='object')"
      ]
     },
     "execution_count": 7,
     "metadata": {},
     "output_type": "execute_result"
    }
   ],
   "source": [
    "df.columns"
   ]
  },
  {
   "cell_type": "code",
   "execution_count": 8,
   "id": "616db0d9",
   "metadata": {},
   "outputs": [
    {
     "data": {
      "text/plain": [
       "10000"
      ]
     },
     "execution_count": 8,
     "metadata": {},
     "output_type": "execute_result"
    }
   ],
   "source": [
    "df['Patient ID'].nunique()"
   ]
  },
  {
   "cell_type": "markdown",
   "id": "c07e4a3c",
   "metadata": {},
   "source": [
    "## Data Cleaning"
   ]
  },
  {
   "cell_type": "code",
   "execution_count": 9,
   "id": "bda07f6a",
   "metadata": {},
   "outputs": [],
   "source": [
    "df.columns=df.columns.str.lower().str.replace(' ','_')"
   ]
  },
  {
   "cell_type": "code",
   "execution_count": 10,
   "id": "c020caee",
   "metadata": {},
   "outputs": [
    {
     "data": {
      "text/plain": [
       "Index(['patient_id', 'age', 'gender', 'visual_acuity_measurements',\n",
       "       'intraocular_pressure_(iop)', 'cup-to-disc_ratio_(cdr)',\n",
       "       'family_history', 'medical_history', 'medication_usage',\n",
       "       'visual_field_test_results',\n",
       "       'optical_coherence_tomography_(oct)_results', 'pachymetry',\n",
       "       'cataract_status', 'angle_closure_status', 'visual_symptoms',\n",
       "       'diagnosis', 'glaucoma_type'],\n",
       "      dtype='object')"
      ]
     },
     "execution_count": 10,
     "metadata": {},
     "output_type": "execute_result"
    }
   ],
   "source": [
    "df.columns"
   ]
  },
  {
   "cell_type": "code",
   "execution_count": 11,
   "id": "27d5d6b7",
   "metadata": {},
   "outputs": [],
   "source": [
    "df.columns=['patient_id', 'age', 'gender', 'visual_acuity_measurements',\n",
    "       'iop', 'cdr',\n",
    "       'family_history', 'medical_history', 'medication_usage',\n",
    "       'visual_field_test_results',\n",
    "       'oct_results', 'pachymetry',\n",
    "       'cataract_status', 'angle_closure_status', 'visual_symptoms',\n",
    "       'diagnosis', 'glaucoma_type']"
   ]
  },
  {
   "cell_type": "code",
   "execution_count": 12,
   "id": "88cc8d4f",
   "metadata": {},
   "outputs": [
    {
     "data": {
      "text/plain": [
       "90"
      ]
     },
     "execution_count": 12,
     "metadata": {},
     "output_type": "execute_result"
    }
   ],
   "source": [
    "df.age.max()"
   ]
  },
  {
   "cell_type": "code",
   "execution_count": 13,
   "id": "7ba12af5",
   "metadata": {},
   "outputs": [
    {
     "data": {
      "text/plain": [
       "array(['Male', 'Female'], dtype=object)"
      ]
     },
     "execution_count": 13,
     "metadata": {},
     "output_type": "execute_result"
    }
   ],
   "source": [
    "df.gender.unique()"
   ]
  },
  {
   "cell_type": "code",
   "execution_count": 14,
   "id": "b67c3a0d",
   "metadata": {},
   "outputs": [
    {
     "data": {
      "text/plain": [
       "array(['LogMAR 0.1', '20/40', 'LogMAR 0.0', '20/20'], dtype=object)"
      ]
     },
     "execution_count": 14,
     "metadata": {},
     "output_type": "execute_result"
    }
   ],
   "source": [
    "df.visual_acuity_measurements.unique()"
   ]
  },
  {
   "cell_type": "code",
   "execution_count": 15,
   "id": "0611cb38",
   "metadata": {},
   "outputs": [
    {
     "data": {
      "text/plain": [
       "'20/40'"
      ]
     },
     "execution_count": 15,
     "metadata": {},
     "output_type": "execute_result"
    }
   ],
   "source": [
    "df.visual_acuity_measurements[2]"
   ]
  },
  {
   "cell_type": "code",
   "execution_count": 16,
   "id": "3c48de19",
   "metadata": {},
   "outputs": [],
   "source": [
    "def correct_visual_acuity(x):\n",
    "    if x['visual_acuity_measurements']=='20/20':\n",
    "        return 'LogMAR 0.0'\n",
    "    elif x['visual_acuity_measurements']=='20/40':\n",
    "        return 'LogMAR 0.3'\n",
    "    else:\n",
    "        return x['visual_acuity_measurements']\n",
    "    "
   ]
  },
  {
   "cell_type": "code",
   "execution_count": 17,
   "id": "7d0b9315",
   "metadata": {},
   "outputs": [],
   "source": [
    "df['visual_acuity_measurements']=df.apply(correct_visual_acuity,axis=1).apply(lambda y:y.split(' ')[1])"
   ]
  },
  {
   "cell_type": "markdown",
   "id": "6b6b3a46",
   "metadata": {},
   "source": [
    "> The Unit of visual_acuity_measurements is LogMAR"
   ]
  },
  {
   "cell_type": "code",
   "execution_count": 18,
   "id": "a4b4a248",
   "metadata": {},
   "outputs": [],
   "source": [
    "df.visual_acuity_measurements=df.visual_acuity_measurements.astype(float)"
   ]
  },
  {
   "cell_type": "code",
   "execution_count": 19,
   "id": "f4369b5b",
   "metadata": {},
   "outputs": [
    {
     "data": {
      "text/plain": [
       "0.1"
      ]
     },
     "execution_count": 19,
     "metadata": {},
     "output_type": "execute_result"
    }
   ],
   "source": [
    "df.visual_acuity_measurements[0]"
   ]
  },
  {
   "cell_type": "code",
   "execution_count": 20,
   "id": "81b2490e",
   "metadata": {},
   "outputs": [
    {
     "data": {
      "text/plain": [
       "0       19.46\n",
       "1       18.39\n",
       "2       23.65\n",
       "3       18.04\n",
       "4       15.87\n",
       "        ...  \n",
       "9995    22.83\n",
       "9996    11.72\n",
       "9997    10.67\n",
       "9998    23.37\n",
       "9999    22.90\n",
       "Name: iop, Length: 10000, dtype: float64"
      ]
     },
     "execution_count": 20,
     "metadata": {},
     "output_type": "execute_result"
    }
   ],
   "source": [
    "df['iop']"
   ]
  },
  {
   "cell_type": "code",
   "execution_count": 21,
   "id": "10f9234c",
   "metadata": {},
   "outputs": [
    {
     "data": {
      "text/plain": [
       "(0.3, 0.8)"
      ]
     },
     "execution_count": 21,
     "metadata": {},
     "output_type": "execute_result"
    }
   ],
   "source": [
    "df.cdr.min(),df.cdr.max()"
   ]
  },
  {
   "cell_type": "code",
   "execution_count": 22,
   "id": "a989ccb2",
   "metadata": {},
   "outputs": [
    {
     "data": {
      "text/plain": [
       "array([0.42, 0.72, 0.61, 0.3 , 0.58, 0.39, 0.46, 0.52, 0.37, 0.71, 0.55,\n",
       "       0.41, 0.69, 0.43, 0.47, 0.38, 0.33, 0.75, 0.54, 0.68, 0.48, 0.65,\n",
       "       0.64, 0.7 , 0.36, 0.6 , 0.57, 0.49, 0.51, 0.74, 0.34, 0.35, 0.4 ,\n",
       "       0.78, 0.77, 0.56, 0.62, 0.67, 0.53, 0.66, 0.63, 0.59, 0.73, 0.32,\n",
       "       0.76, 0.44, 0.8 , 0.45, 0.5 , 0.79, 0.31])"
      ]
     },
     "execution_count": 22,
     "metadata": {},
     "output_type": "execute_result"
    }
   ],
   "source": [
    "df.cdr.unique()"
   ]
  },
  {
   "cell_type": "code",
   "execution_count": 23,
   "id": "91c9ad08",
   "metadata": {},
   "outputs": [
    {
     "data": {
      "text/plain": [
       "array(['No', 'Yes'], dtype=object)"
      ]
     },
     "execution_count": 23,
     "metadata": {},
     "output_type": "execute_result"
    }
   ],
   "source": [
    "df.family_history.unique()"
   ]
  },
  {
   "cell_type": "code",
   "execution_count": 24,
   "id": "b41e7a3d",
   "metadata": {},
   "outputs": [
    {
     "data": {
      "text/plain": [
       "array(['Diabetes', 'Hypertension', nan, 'Glaucoma in family'],\n",
       "      dtype=object)"
      ]
     },
     "execution_count": 24,
     "metadata": {},
     "output_type": "execute_result"
    }
   ],
   "source": [
    "df.medical_history.unique()"
   ]
  },
  {
   "cell_type": "code",
   "execution_count": 25,
   "id": "af79a445",
   "metadata": {},
   "outputs": [],
   "source": [
    "df.medical_history.fillna('other',inplace=True)"
   ]
  },
  {
   "cell_type": "code",
   "execution_count": 26,
   "id": "3d6fd76b",
   "metadata": {},
   "outputs": [
    {
     "data": {
      "text/plain": [
       "patient_id                       0\n",
       "age                              0\n",
       "gender                           0\n",
       "visual_acuity_measurements       0\n",
       "iop                              0\n",
       "cdr                              0\n",
       "family_history                   0\n",
       "medical_history                  0\n",
       "medication_usage              1231\n",
       "visual_field_test_results        0\n",
       "oct_results                      0\n",
       "pachymetry                       0\n",
       "cataract_status                  0\n",
       "angle_closure_status             0\n",
       "visual_symptoms                  0\n",
       "diagnosis                        0\n",
       "glaucoma_type                    0\n",
       "dtype: int64"
      ]
     },
     "execution_count": 26,
     "metadata": {},
     "output_type": "execute_result"
    }
   ],
   "source": [
    "df.isnull().sum()"
   ]
  },
  {
   "cell_type": "code",
   "execution_count": 27,
   "id": "5fa6ca85",
   "metadata": {},
   "outputs": [
    {
     "data": {
      "text/plain": [
       "4079"
      ]
     },
     "execution_count": 27,
     "metadata": {},
     "output_type": "execute_result"
    }
   ],
   "source": [
    "df.medication_usage.nunique()"
   ]
  },
  {
   "cell_type": "code",
   "execution_count": 28,
   "id": "080a05b7",
   "metadata": {},
   "outputs": [
    {
     "data": {
      "text/plain": [
       "0    Amoxicillin\n",
       "Name: medication_usage, dtype: object"
      ]
     },
     "execution_count": 28,
     "metadata": {},
     "output_type": "execute_result"
    }
   ],
   "source": [
    "df.medication_usage.mode()"
   ]
  },
  {
   "cell_type": "code",
   "execution_count": 29,
   "id": "c73f1687",
   "metadata": {},
   "outputs": [],
   "source": [
    "df.medication_usage.fillna('Amoxicillin',inplace=True)"
   ]
  },
  {
   "cell_type": "code",
   "execution_count": 30,
   "id": "68d74199",
   "metadata": {},
   "outputs": [
    {
     "data": {
      "text/plain": [
       "patient_id                    0\n",
       "age                           0\n",
       "gender                        0\n",
       "visual_acuity_measurements    0\n",
       "iop                           0\n",
       "cdr                           0\n",
       "family_history                0\n",
       "medical_history               0\n",
       "medication_usage              0\n",
       "visual_field_test_results     0\n",
       "oct_results                   0\n",
       "pachymetry                    0\n",
       "cataract_status               0\n",
       "angle_closure_status          0\n",
       "visual_symptoms               0\n",
       "diagnosis                     0\n",
       "glaucoma_type                 0\n",
       "dtype: int64"
      ]
     },
     "execution_count": 30,
     "metadata": {},
     "output_type": "execute_result"
    }
   ],
   "source": [
    "df.isnull().sum()"
   ]
  },
  {
   "cell_type": "code",
   "execution_count": 31,
   "id": "fbc2ff5a",
   "metadata": {},
   "outputs": [
    {
     "data": {
      "text/plain": [
       "0       Sensitivity: 0.54, Specificity: 0.75\n",
       "1       Sensitivity: 0.72, Specificity: 0.88\n",
       "2        Sensitivity: 0.56, Specificity: 0.8\n",
       "3        Sensitivity: 0.6, Specificity: 0.93\n",
       "4        Sensitivity: 0.82, Specificity: 0.9\n",
       "                        ...                 \n",
       "9995    Sensitivity: 0.81, Specificity: 0.97\n",
       "9996     Sensitivity: 0.7, Specificity: 0.97\n",
       "9997      Sensitivity: 0.8, Specificity: 0.9\n",
       "9998     Sensitivity: 0.68, Specificity: 0.9\n",
       "9999    Sensitivity: 0.87, Specificity: 0.73\n",
       "Name: visual_field_test_results, Length: 10000, dtype: object"
      ]
     },
     "execution_count": 31,
     "metadata": {},
     "output_type": "execute_result"
    }
   ],
   "source": [
    "df.visual_field_test_results"
   ]
  },
  {
   "cell_type": "code",
   "execution_count": 32,
   "id": "9855c6d5",
   "metadata": {},
   "outputs": [],
   "source": [
    "df['sensitivity']=df.visual_field_test_results.apply(lambda x:x.split(',')[0]).apply(lambda y:y.split(':')[1]).astype(float)"
   ]
  },
  {
   "cell_type": "code",
   "execution_count": 33,
   "id": "cd32ab4c",
   "metadata": {},
   "outputs": [],
   "source": [
    "df['specificity']=df.visual_field_test_results.apply(lambda x:x.split(',')[1]).apply(lambda y:y.split(':')[1]).astype(float)"
   ]
  },
  {
   "cell_type": "code",
   "execution_count": 34,
   "id": "3c71e633",
   "metadata": {},
   "outputs": [],
   "source": [
    "df.drop('visual_field_test_results',axis=1,inplace=True)"
   ]
  },
  {
   "cell_type": "code",
   "execution_count": 35,
   "id": "b455fe3d",
   "metadata": {},
   "outputs": [
    {
     "data": {
      "text/html": [
       "<div>\n",
       "<style scoped>\n",
       "    .dataframe tbody tr th:only-of-type {\n",
       "        vertical-align: middle;\n",
       "    }\n",
       "\n",
       "    .dataframe tbody tr th {\n",
       "        vertical-align: top;\n",
       "    }\n",
       "\n",
       "    .dataframe thead th {\n",
       "        text-align: right;\n",
       "    }\n",
       "</style>\n",
       "<table border=\"1\" class=\"dataframe\">\n",
       "  <thead>\n",
       "    <tr style=\"text-align: right;\">\n",
       "      <th></th>\n",
       "      <th>patient_id</th>\n",
       "      <th>age</th>\n",
       "      <th>gender</th>\n",
       "      <th>visual_acuity_measurements</th>\n",
       "      <th>iop</th>\n",
       "      <th>cdr</th>\n",
       "      <th>family_history</th>\n",
       "      <th>medical_history</th>\n",
       "      <th>medication_usage</th>\n",
       "      <th>oct_results</th>\n",
       "      <th>pachymetry</th>\n",
       "      <th>cataract_status</th>\n",
       "      <th>angle_closure_status</th>\n",
       "      <th>visual_symptoms</th>\n",
       "      <th>diagnosis</th>\n",
       "      <th>glaucoma_type</th>\n",
       "      <th>sensitivity</th>\n",
       "      <th>specificity</th>\n",
       "    </tr>\n",
       "  </thead>\n",
       "  <tbody>\n",
       "    <tr>\n",
       "      <th>0</th>\n",
       "      <td>62431</td>\n",
       "      <td>69</td>\n",
       "      <td>Male</td>\n",
       "      <td>0.1</td>\n",
       "      <td>19.46</td>\n",
       "      <td>0.42</td>\n",
       "      <td>No</td>\n",
       "      <td>Diabetes</td>\n",
       "      <td>Amoxicillin, Lisinopril, Omeprazole, Atorvasta...</td>\n",
       "      <td>RNFL Thickness: 86.48 µm, GCC Thickness: 64.14...</td>\n",
       "      <td>541.51</td>\n",
       "      <td>Present</td>\n",
       "      <td>Open</td>\n",
       "      <td>Tunnel vision, Eye pain, Nausea</td>\n",
       "      <td>No Glaucoma</td>\n",
       "      <td>Primary Open-Angle Glaucoma</td>\n",
       "      <td>0.54</td>\n",
       "      <td>0.75</td>\n",
       "    </tr>\n",
       "    <tr>\n",
       "      <th>1</th>\n",
       "      <td>68125</td>\n",
       "      <td>69</td>\n",
       "      <td>Female</td>\n",
       "      <td>0.1</td>\n",
       "      <td>18.39</td>\n",
       "      <td>0.72</td>\n",
       "      <td>No</td>\n",
       "      <td>Hypertension</td>\n",
       "      <td>Lisinopril, Amoxicillin, Atorvastatin, Ibuprof...</td>\n",
       "      <td>RNFL Thickness: 96.88 µm, GCC Thickness: 56.48...</td>\n",
       "      <td>552.77</td>\n",
       "      <td>Absent</td>\n",
       "      <td>Open</td>\n",
       "      <td>Redness in the eye, Vision loss, Tunnel vision</td>\n",
       "      <td>No Glaucoma</td>\n",
       "      <td>Juvenile Glaucoma</td>\n",
       "      <td>0.72</td>\n",
       "      <td>0.88</td>\n",
       "    </tr>\n",
       "    <tr>\n",
       "      <th>2</th>\n",
       "      <td>63329</td>\n",
       "      <td>67</td>\n",
       "      <td>Female</td>\n",
       "      <td>0.3</td>\n",
       "      <td>23.65</td>\n",
       "      <td>0.72</td>\n",
       "      <td>No</td>\n",
       "      <td>Hypertension</td>\n",
       "      <td>Amoxicillin, Ibuprofen, Metformin, Atorvastati...</td>\n",
       "      <td>RNFL Thickness: 89.81 µm, GCC Thickness: 59.05...</td>\n",
       "      <td>573.65</td>\n",
       "      <td>Absent</td>\n",
       "      <td>Closed</td>\n",
       "      <td>Halos around lights, Vision loss, Redness in t...</td>\n",
       "      <td>No Glaucoma</td>\n",
       "      <td>Juvenile Glaucoma</td>\n",
       "      <td>0.56</td>\n",
       "      <td>0.80</td>\n",
       "    </tr>\n",
       "    <tr>\n",
       "      <th>3</th>\n",
       "      <td>47174</td>\n",
       "      <td>23</td>\n",
       "      <td>Male</td>\n",
       "      <td>0.0</td>\n",
       "      <td>18.04</td>\n",
       "      <td>0.61</td>\n",
       "      <td>No</td>\n",
       "      <td>other</td>\n",
       "      <td>Ibuprofen, Aspirin</td>\n",
       "      <td>RNFL Thickness: 87.25 µm, GCC Thickness: 63.98...</td>\n",
       "      <td>590.67</td>\n",
       "      <td>Absent</td>\n",
       "      <td>Closed</td>\n",
       "      <td>Nausea, Nausea, Halos around lights</td>\n",
       "      <td>No Glaucoma</td>\n",
       "      <td>Congenital Glaucoma</td>\n",
       "      <td>0.60</td>\n",
       "      <td>0.93</td>\n",
       "    </tr>\n",
       "    <tr>\n",
       "      <th>4</th>\n",
       "      <td>67361</td>\n",
       "      <td>21</td>\n",
       "      <td>Male</td>\n",
       "      <td>0.1</td>\n",
       "      <td>15.87</td>\n",
       "      <td>0.30</td>\n",
       "      <td>No</td>\n",
       "      <td>Diabetes</td>\n",
       "      <td>Amoxicillin, Omeprazole, Aspirin, Ibuprofen, A...</td>\n",
       "      <td>RNFL Thickness: 82.61 µm, GCC Thickness: 66.01...</td>\n",
       "      <td>588.41</td>\n",
       "      <td>Absent</td>\n",
       "      <td>Closed</td>\n",
       "      <td>Eye pain, Eye pain, Tunnel vision</td>\n",
       "      <td>No Glaucoma</td>\n",
       "      <td>Primary Open-Angle Glaucoma</td>\n",
       "      <td>0.82</td>\n",
       "      <td>0.90</td>\n",
       "    </tr>\n",
       "  </tbody>\n",
       "</table>\n",
       "</div>"
      ],
      "text/plain": [
       "   patient_id  age  gender  visual_acuity_measurements    iop   cdr  \\\n",
       "0       62431   69    Male                         0.1  19.46  0.42   \n",
       "1       68125   69  Female                         0.1  18.39  0.72   \n",
       "2       63329   67  Female                         0.3  23.65  0.72   \n",
       "3       47174   23    Male                         0.0  18.04  0.61   \n",
       "4       67361   21    Male                         0.1  15.87  0.30   \n",
       "\n",
       "  family_history medical_history  \\\n",
       "0             No        Diabetes   \n",
       "1             No    Hypertension   \n",
       "2             No    Hypertension   \n",
       "3             No           other   \n",
       "4             No        Diabetes   \n",
       "\n",
       "                                    medication_usage  \\\n",
       "0  Amoxicillin, Lisinopril, Omeprazole, Atorvasta...   \n",
       "1  Lisinopril, Amoxicillin, Atorvastatin, Ibuprof...   \n",
       "2  Amoxicillin, Ibuprofen, Metformin, Atorvastati...   \n",
       "3                                 Ibuprofen, Aspirin   \n",
       "4  Amoxicillin, Omeprazole, Aspirin, Ibuprofen, A...   \n",
       "\n",
       "                                         oct_results  pachymetry  \\\n",
       "0  RNFL Thickness: 86.48 µm, GCC Thickness: 64.14...      541.51   \n",
       "1  RNFL Thickness: 96.88 µm, GCC Thickness: 56.48...      552.77   \n",
       "2  RNFL Thickness: 89.81 µm, GCC Thickness: 59.05...      573.65   \n",
       "3  RNFL Thickness: 87.25 µm, GCC Thickness: 63.98...      590.67   \n",
       "4  RNFL Thickness: 82.61 µm, GCC Thickness: 66.01...      588.41   \n",
       "\n",
       "  cataract_status angle_closure_status  \\\n",
       "0         Present                 Open   \n",
       "1          Absent                 Open   \n",
       "2          Absent               Closed   \n",
       "3          Absent               Closed   \n",
       "4          Absent               Closed   \n",
       "\n",
       "                                     visual_symptoms    diagnosis  \\\n",
       "0                    Tunnel vision, Eye pain, Nausea  No Glaucoma   \n",
       "1     Redness in the eye, Vision loss, Tunnel vision  No Glaucoma   \n",
       "2  Halos around lights, Vision loss, Redness in t...  No Glaucoma   \n",
       "3                Nausea, Nausea, Halos around lights  No Glaucoma   \n",
       "4                  Eye pain, Eye pain, Tunnel vision  No Glaucoma   \n",
       "\n",
       "                 glaucoma_type  sensitivity  specificity  \n",
       "0  Primary Open-Angle Glaucoma         0.54         0.75  \n",
       "1            Juvenile Glaucoma         0.72         0.88  \n",
       "2            Juvenile Glaucoma         0.56         0.80  \n",
       "3          Congenital Glaucoma         0.60         0.93  \n",
       "4  Primary Open-Angle Glaucoma         0.82         0.90  "
      ]
     },
     "execution_count": 35,
     "metadata": {},
     "output_type": "execute_result"
    }
   ],
   "source": [
    "df.head()"
   ]
  },
  {
   "cell_type": "code",
   "execution_count": 36,
   "id": "af827519",
   "metadata": {},
   "outputs": [
    {
     "data": {
      "text/plain": [
       "'RNFL Thickness: 96.88 µm, GCC Thickness: 56.48 µm, Retinal Volume: 5.69 mm³, Macular Thickness: 261.48 µm'"
      ]
     },
     "execution_count": 36,
     "metadata": {},
     "output_type": "execute_result"
    }
   ],
   "source": [
    "df.oct_results[1]"
   ]
  },
  {
   "cell_type": "markdown",
   "id": "f6d8c3aa",
   "metadata": {},
   "source": [
    "> The Unit of OCT Results is MicroMeter"
   ]
  },
  {
   "cell_type": "code",
   "execution_count": 37,
   "id": "08e50808",
   "metadata": {},
   "outputs": [
    {
     "data": {
      "text/plain": [
       "0       86.48\n",
       "1       96.88\n",
       "2       89.81\n",
       "3       87.25\n",
       "4       82.61\n",
       "        ...  \n",
       "9995    83.41\n",
       "9996    83.04\n",
       "9997    95.93\n",
       "9998    92.84\n",
       "9999    88.77\n",
       "Name: oct_results, Length: 10000, dtype: float64"
      ]
     },
     "execution_count": 37,
     "metadata": {},
     "output_type": "execute_result"
    }
   ],
   "source": [
    "df['oct_results'].apply(lambda x:x.split(',')[0]).apply(lambda y:y.split(':')[1]).apply(lambda z:z.split(' ')[1]).astype(float)\n"
   ]
  },
  {
   "cell_type": "code",
   "execution_count": 38,
   "id": "db697f6c",
   "metadata": {},
   "outputs": [],
   "source": [
    "df['rnfl_thickness']=df['oct_results'].apply(lambda x:x.split(',')[0]).apply(lambda y:y.split(':')[1]).apply(lambda z:z.split(' ')[1]).astype(float)\n",
    "\n",
    "df['gcc_thickness']=df['oct_results'].apply(lambda x:x.split(',')[1]).apply(lambda y:y.split(':')[1]).apply(lambda z:z.split(' ')[1]).astype(float)\n",
    "df['retinal_volume']=df['oct_results'].apply(lambda x:x.split(',')[2]).apply(lambda y:y.split(':')[1]).apply(lambda z:z.split(' ')[1]).astype(float)\n",
    "df['macular_thickness']=df['oct_results'].apply(lambda x:x.split(',')[3]).apply(lambda y:y.split(':')[1]).apply(lambda z:z.split(' ')[1]).astype(float)\n"
   ]
  },
  {
   "cell_type": "code",
   "execution_count": 39,
   "id": "b6f3198d",
   "metadata": {},
   "outputs": [],
   "source": [
    "df.drop('oct_results',axis=1,inplace=True)"
   ]
  },
  {
   "cell_type": "code",
   "execution_count": 40,
   "id": "e3582e03",
   "metadata": {},
   "outputs": [
    {
     "data": {
      "text/plain": [
       "(500.01, 599.99)"
      ]
     },
     "execution_count": 40,
     "metadata": {},
     "output_type": "execute_result"
    }
   ],
   "source": [
    "df.pachymetry.min(),df.pachymetry.max()"
   ]
  },
  {
   "cell_type": "code",
   "execution_count": 41,
   "id": "b8bb8f71",
   "metadata": {},
   "outputs": [
    {
     "data": {
      "text/plain": [
       "array(['Present', 'Absent'], dtype=object)"
      ]
     },
     "execution_count": 41,
     "metadata": {},
     "output_type": "execute_result"
    }
   ],
   "source": [
    "df.cataract_status.unique()"
   ]
  },
  {
   "cell_type": "code",
   "execution_count": 42,
   "id": "57dc7cc9",
   "metadata": {},
   "outputs": [
    {
     "data": {
      "text/plain": [
       "array(['Open', 'Closed'], dtype=object)"
      ]
     },
     "execution_count": 42,
     "metadata": {},
     "output_type": "execute_result"
    }
   ],
   "source": [
    "df.angle_closure_status.unique()"
   ]
  },
  {
   "cell_type": "code",
   "execution_count": 43,
   "id": "3f0bbf8f",
   "metadata": {},
   "outputs": [
    {
     "data": {
      "text/plain": [
       "0                         Tunnel vision, Eye pain, Nausea\n",
       "1          Redness in the eye, Vision loss, Tunnel vision\n",
       "2       Halos around lights, Vision loss, Redness in t...\n",
       "3                     Nausea, Nausea, Halos around lights\n",
       "4                       Eye pain, Eye pain, Tunnel vision\n",
       "                              ...                        \n",
       "9995                    Eye pain, Eye pain, Tunnel vision\n",
       "9996              Eye pain, Halos around lights, Vomiting\n",
       "9997                Vision loss, Vomiting, Blurred vision\n",
       "9998                  Halos around lights, Nausea, Nausea\n",
       "9999              Eye pain, Eye pain, Halos around lights\n",
       "Name: visual_symptoms, Length: 10000, dtype: object"
      ]
     },
     "execution_count": 43,
     "metadata": {},
     "output_type": "execute_result"
    }
   ],
   "source": [
    "df.visual_symptoms"
   ]
  },
  {
   "cell_type": "code",
   "execution_count": 44,
   "id": "d51f50c5",
   "metadata": {},
   "outputs": [
    {
     "data": {
      "text/plain": [
       "array(['No Glaucoma', 'Glaucoma'], dtype=object)"
      ]
     },
     "execution_count": 44,
     "metadata": {},
     "output_type": "execute_result"
    }
   ],
   "source": [
    "df.diagnosis.unique()"
   ]
  },
  {
   "cell_type": "code",
   "execution_count": 45,
   "id": "d7d01e27",
   "metadata": {},
   "outputs": [
    {
     "data": {
      "text/plain": [
       "array(['Primary Open-Angle Glaucoma', 'Juvenile Glaucoma',\n",
       "       'Congenital Glaucoma', 'Normal-Tension Glaucoma',\n",
       "       'Angle-Closure Glaucoma', 'Secondary Glaucoma'], dtype=object)"
      ]
     },
     "execution_count": 45,
     "metadata": {},
     "output_type": "execute_result"
    }
   ],
   "source": [
    "df.glaucoma_type.unique()"
   ]
  },
  {
   "cell_type": "code",
   "execution_count": 46,
   "id": "fd1d84a9",
   "metadata": {},
   "outputs": [
    {
     "data": {
      "text/plain": [
       "Index(['patient_id', 'age', 'gender', 'visual_acuity_measurements', 'iop',\n",
       "       'cdr', 'family_history', 'medical_history', 'medication_usage',\n",
       "       'pachymetry', 'cataract_status', 'angle_closure_status',\n",
       "       'visual_symptoms', 'diagnosis', 'glaucoma_type', 'sensitivity',\n",
       "       'specificity', 'rnfl_thickness', 'gcc_thickness', 'retinal_volume',\n",
       "       'macular_thickness'],\n",
       "      dtype='object')"
      ]
     },
     "execution_count": 46,
     "metadata": {},
     "output_type": "execute_result"
    }
   ],
   "source": [
    "df.columns"
   ]
  },
  {
   "cell_type": "code",
   "execution_count": 47,
   "id": "4c671b9e",
   "metadata": {},
   "outputs": [
    {
     "data": {
      "text/html": [
       "<div>\n",
       "<style scoped>\n",
       "    .dataframe tbody tr th:only-of-type {\n",
       "        vertical-align: middle;\n",
       "    }\n",
       "\n",
       "    .dataframe tbody tr th {\n",
       "        vertical-align: top;\n",
       "    }\n",
       "\n",
       "    .dataframe thead th {\n",
       "        text-align: right;\n",
       "    }\n",
       "</style>\n",
       "<table border=\"1\" class=\"dataframe\">\n",
       "  <thead>\n",
       "    <tr style=\"text-align: right;\">\n",
       "      <th></th>\n",
       "      <th>patient_id</th>\n",
       "      <th>age</th>\n",
       "      <th>gender</th>\n",
       "      <th>visual_acuity_measurements</th>\n",
       "      <th>iop</th>\n",
       "      <th>cdr</th>\n",
       "      <th>family_history</th>\n",
       "      <th>medical_history</th>\n",
       "      <th>medication_usage</th>\n",
       "      <th>pachymetry</th>\n",
       "      <th>...</th>\n",
       "      <th>angle_closure_status</th>\n",
       "      <th>visual_symptoms</th>\n",
       "      <th>diagnosis</th>\n",
       "      <th>glaucoma_type</th>\n",
       "      <th>sensitivity</th>\n",
       "      <th>specificity</th>\n",
       "      <th>rnfl_thickness</th>\n",
       "      <th>gcc_thickness</th>\n",
       "      <th>retinal_volume</th>\n",
       "      <th>macular_thickness</th>\n",
       "    </tr>\n",
       "  </thead>\n",
       "  <tbody>\n",
       "    <tr>\n",
       "      <th>0</th>\n",
       "      <td>62431</td>\n",
       "      <td>69</td>\n",
       "      <td>Male</td>\n",
       "      <td>0.1</td>\n",
       "      <td>19.46</td>\n",
       "      <td>0.42</td>\n",
       "      <td>No</td>\n",
       "      <td>Diabetes</td>\n",
       "      <td>Amoxicillin, Lisinopril, Omeprazole, Atorvasta...</td>\n",
       "      <td>541.51</td>\n",
       "      <td>...</td>\n",
       "      <td>Open</td>\n",
       "      <td>Tunnel vision, Eye pain, Nausea</td>\n",
       "      <td>No Glaucoma</td>\n",
       "      <td>Primary Open-Angle Glaucoma</td>\n",
       "      <td>0.54</td>\n",
       "      <td>0.75</td>\n",
       "      <td>86.48</td>\n",
       "      <td>64.14</td>\n",
       "      <td>5.63</td>\n",
       "      <td>283.67</td>\n",
       "    </tr>\n",
       "    <tr>\n",
       "      <th>1</th>\n",
       "      <td>68125</td>\n",
       "      <td>69</td>\n",
       "      <td>Female</td>\n",
       "      <td>0.1</td>\n",
       "      <td>18.39</td>\n",
       "      <td>0.72</td>\n",
       "      <td>No</td>\n",
       "      <td>Hypertension</td>\n",
       "      <td>Lisinopril, Amoxicillin, Atorvastatin, Ibuprof...</td>\n",
       "      <td>552.77</td>\n",
       "      <td>...</td>\n",
       "      <td>Open</td>\n",
       "      <td>Redness in the eye, Vision loss, Tunnel vision</td>\n",
       "      <td>No Glaucoma</td>\n",
       "      <td>Juvenile Glaucoma</td>\n",
       "      <td>0.72</td>\n",
       "      <td>0.88</td>\n",
       "      <td>96.88</td>\n",
       "      <td>56.48</td>\n",
       "      <td>5.69</td>\n",
       "      <td>261.48</td>\n",
       "    </tr>\n",
       "    <tr>\n",
       "      <th>2</th>\n",
       "      <td>63329</td>\n",
       "      <td>67</td>\n",
       "      <td>Female</td>\n",
       "      <td>0.3</td>\n",
       "      <td>23.65</td>\n",
       "      <td>0.72</td>\n",
       "      <td>No</td>\n",
       "      <td>Hypertension</td>\n",
       "      <td>Amoxicillin, Ibuprofen, Metformin, Atorvastati...</td>\n",
       "      <td>573.65</td>\n",
       "      <td>...</td>\n",
       "      <td>Closed</td>\n",
       "      <td>Halos around lights, Vision loss, Redness in t...</td>\n",
       "      <td>No Glaucoma</td>\n",
       "      <td>Juvenile Glaucoma</td>\n",
       "      <td>0.56</td>\n",
       "      <td>0.80</td>\n",
       "      <td>89.81</td>\n",
       "      <td>59.05</td>\n",
       "      <td>5.96</td>\n",
       "      <td>282.34</td>\n",
       "    </tr>\n",
       "    <tr>\n",
       "      <th>3</th>\n",
       "      <td>47174</td>\n",
       "      <td>23</td>\n",
       "      <td>Male</td>\n",
       "      <td>0.0</td>\n",
       "      <td>18.04</td>\n",
       "      <td>0.61</td>\n",
       "      <td>No</td>\n",
       "      <td>other</td>\n",
       "      <td>Ibuprofen, Aspirin</td>\n",
       "      <td>590.67</td>\n",
       "      <td>...</td>\n",
       "      <td>Closed</td>\n",
       "      <td>Nausea, Nausea, Halos around lights</td>\n",
       "      <td>No Glaucoma</td>\n",
       "      <td>Congenital Glaucoma</td>\n",
       "      <td>0.60</td>\n",
       "      <td>0.93</td>\n",
       "      <td>87.25</td>\n",
       "      <td>63.98</td>\n",
       "      <td>6.44</td>\n",
       "      <td>262.86</td>\n",
       "    </tr>\n",
       "    <tr>\n",
       "      <th>4</th>\n",
       "      <td>67361</td>\n",
       "      <td>21</td>\n",
       "      <td>Male</td>\n",
       "      <td>0.1</td>\n",
       "      <td>15.87</td>\n",
       "      <td>0.30</td>\n",
       "      <td>No</td>\n",
       "      <td>Diabetes</td>\n",
       "      <td>Amoxicillin, Omeprazole, Aspirin, Ibuprofen, A...</td>\n",
       "      <td>588.41</td>\n",
       "      <td>...</td>\n",
       "      <td>Closed</td>\n",
       "      <td>Eye pain, Eye pain, Tunnel vision</td>\n",
       "      <td>No Glaucoma</td>\n",
       "      <td>Primary Open-Angle Glaucoma</td>\n",
       "      <td>0.82</td>\n",
       "      <td>0.90</td>\n",
       "      <td>82.61</td>\n",
       "      <td>66.01</td>\n",
       "      <td>6.16</td>\n",
       "      <td>261.78</td>\n",
       "    </tr>\n",
       "  </tbody>\n",
       "</table>\n",
       "<p>5 rows × 21 columns</p>\n",
       "</div>"
      ],
      "text/plain": [
       "   patient_id  age  gender  visual_acuity_measurements    iop   cdr  \\\n",
       "0       62431   69    Male                         0.1  19.46  0.42   \n",
       "1       68125   69  Female                         0.1  18.39  0.72   \n",
       "2       63329   67  Female                         0.3  23.65  0.72   \n",
       "3       47174   23    Male                         0.0  18.04  0.61   \n",
       "4       67361   21    Male                         0.1  15.87  0.30   \n",
       "\n",
       "  family_history medical_history  \\\n",
       "0             No        Diabetes   \n",
       "1             No    Hypertension   \n",
       "2             No    Hypertension   \n",
       "3             No           other   \n",
       "4             No        Diabetes   \n",
       "\n",
       "                                    medication_usage  pachymetry  ...  \\\n",
       "0  Amoxicillin, Lisinopril, Omeprazole, Atorvasta...      541.51  ...   \n",
       "1  Lisinopril, Amoxicillin, Atorvastatin, Ibuprof...      552.77  ...   \n",
       "2  Amoxicillin, Ibuprofen, Metformin, Atorvastati...      573.65  ...   \n",
       "3                                 Ibuprofen, Aspirin      590.67  ...   \n",
       "4  Amoxicillin, Omeprazole, Aspirin, Ibuprofen, A...      588.41  ...   \n",
       "\n",
       "  angle_closure_status                                    visual_symptoms  \\\n",
       "0                 Open                    Tunnel vision, Eye pain, Nausea   \n",
       "1                 Open     Redness in the eye, Vision loss, Tunnel vision   \n",
       "2               Closed  Halos around lights, Vision loss, Redness in t...   \n",
       "3               Closed                Nausea, Nausea, Halos around lights   \n",
       "4               Closed                  Eye pain, Eye pain, Tunnel vision   \n",
       "\n",
       "     diagnosis                glaucoma_type sensitivity  specificity  \\\n",
       "0  No Glaucoma  Primary Open-Angle Glaucoma        0.54         0.75   \n",
       "1  No Glaucoma            Juvenile Glaucoma        0.72         0.88   \n",
       "2  No Glaucoma            Juvenile Glaucoma        0.56         0.80   \n",
       "3  No Glaucoma          Congenital Glaucoma        0.60         0.93   \n",
       "4  No Glaucoma  Primary Open-Angle Glaucoma        0.82         0.90   \n",
       "\n",
       "   rnfl_thickness  gcc_thickness  retinal_volume  macular_thickness  \n",
       "0           86.48          64.14            5.63             283.67  \n",
       "1           96.88          56.48            5.69             261.48  \n",
       "2           89.81          59.05            5.96             282.34  \n",
       "3           87.25          63.98            6.44             262.86  \n",
       "4           82.61          66.01            6.16             261.78  \n",
       "\n",
       "[5 rows x 21 columns]"
      ]
     },
     "execution_count": 47,
     "metadata": {},
     "output_type": "execute_result"
    }
   ],
   "source": [
    "df.head()"
   ]
  },
  {
   "cell_type": "code",
   "execution_count": 48,
   "id": "cb585d12",
   "metadata": {},
   "outputs": [
    {
     "data": {
      "text/html": [
       "<div>\n",
       "<style scoped>\n",
       "    .dataframe tbody tr th:only-of-type {\n",
       "        vertical-align: middle;\n",
       "    }\n",
       "\n",
       "    .dataframe tbody tr th {\n",
       "        vertical-align: top;\n",
       "    }\n",
       "\n",
       "    .dataframe thead th {\n",
       "        text-align: right;\n",
       "    }\n",
       "</style>\n",
       "<table border=\"1\" class=\"dataframe\">\n",
       "  <thead>\n",
       "    <tr style=\"text-align: right;\">\n",
       "      <th></th>\n",
       "      <th>count</th>\n",
       "      <th>mean</th>\n",
       "      <th>std</th>\n",
       "      <th>min</th>\n",
       "      <th>25%</th>\n",
       "      <th>50%</th>\n",
       "      <th>75%</th>\n",
       "      <th>max</th>\n",
       "    </tr>\n",
       "  </thead>\n",
       "  <tbody>\n",
       "    <tr>\n",
       "      <th>patient_id</th>\n",
       "      <td>10000.0</td>\n",
       "      <td>50002.168800</td>\n",
       "      <td>28939.824980</td>\n",
       "      <td>4.00</td>\n",
       "      <td>24660.25</td>\n",
       "      <td>50091.500</td>\n",
       "      <td>74829.2500</td>\n",
       "      <td>99992.00</td>\n",
       "    </tr>\n",
       "    <tr>\n",
       "      <th>age</th>\n",
       "      <td>10000.0</td>\n",
       "      <td>53.872200</td>\n",
       "      <td>21.127563</td>\n",
       "      <td>18.00</td>\n",
       "      <td>36.00</td>\n",
       "      <td>54.000</td>\n",
       "      <td>72.0000</td>\n",
       "      <td>90.00</td>\n",
       "    </tr>\n",
       "    <tr>\n",
       "      <th>visual_acuity_measurements</th>\n",
       "      <td>10000.0</td>\n",
       "      <td>0.098440</td>\n",
       "      <td>0.121684</td>\n",
       "      <td>0.00</td>\n",
       "      <td>0.00</td>\n",
       "      <td>0.000</td>\n",
       "      <td>0.1000</td>\n",
       "      <td>0.30</td>\n",
       "    </tr>\n",
       "    <tr>\n",
       "      <th>iop</th>\n",
       "      <td>10000.0</td>\n",
       "      <td>17.507527</td>\n",
       "      <td>4.356101</td>\n",
       "      <td>10.00</td>\n",
       "      <td>13.76</td>\n",
       "      <td>17.485</td>\n",
       "      <td>21.3000</td>\n",
       "      <td>25.00</td>\n",
       "    </tr>\n",
       "    <tr>\n",
       "      <th>cdr</th>\n",
       "      <td>10000.0</td>\n",
       "      <td>0.548437</td>\n",
       "      <td>0.144326</td>\n",
       "      <td>0.30</td>\n",
       "      <td>0.42</td>\n",
       "      <td>0.550</td>\n",
       "      <td>0.6700</td>\n",
       "      <td>0.80</td>\n",
       "    </tr>\n",
       "    <tr>\n",
       "      <th>pachymetry</th>\n",
       "      <td>10000.0</td>\n",
       "      <td>549.733974</td>\n",
       "      <td>28.902741</td>\n",
       "      <td>500.01</td>\n",
       "      <td>524.59</td>\n",
       "      <td>549.335</td>\n",
       "      <td>574.9725</td>\n",
       "      <td>599.99</td>\n",
       "    </tr>\n",
       "    <tr>\n",
       "      <th>sensitivity</th>\n",
       "      <td>10000.0</td>\n",
       "      <td>0.750052</td>\n",
       "      <td>0.143988</td>\n",
       "      <td>0.50</td>\n",
       "      <td>0.63</td>\n",
       "      <td>0.750</td>\n",
       "      <td>0.8700</td>\n",
       "      <td>1.00</td>\n",
       "    </tr>\n",
       "    <tr>\n",
       "      <th>specificity</th>\n",
       "      <td>10000.0</td>\n",
       "      <td>0.850237</td>\n",
       "      <td>0.086709</td>\n",
       "      <td>0.70</td>\n",
       "      <td>0.77</td>\n",
       "      <td>0.850</td>\n",
       "      <td>0.9200</td>\n",
       "      <td>1.00</td>\n",
       "    </tr>\n",
       "    <tr>\n",
       "      <th>rnfl_thickness</th>\n",
       "      <td>10000.0</td>\n",
       "      <td>87.433765</td>\n",
       "      <td>7.176537</td>\n",
       "      <td>75.01</td>\n",
       "      <td>81.28</td>\n",
       "      <td>87.380</td>\n",
       "      <td>93.6400</td>\n",
       "      <td>100.00</td>\n",
       "    </tr>\n",
       "    <tr>\n",
       "      <th>gcc_thickness</th>\n",
       "      <td>10000.0</td>\n",
       "      <td>62.514676</td>\n",
       "      <td>4.333931</td>\n",
       "      <td>55.00</td>\n",
       "      <td>58.82</td>\n",
       "      <td>62.520</td>\n",
       "      <td>66.2400</td>\n",
       "      <td>70.00</td>\n",
       "    </tr>\n",
       "    <tr>\n",
       "      <th>retinal_volume</th>\n",
       "      <td>10000.0</td>\n",
       "      <td>6.000813</td>\n",
       "      <td>0.289753</td>\n",
       "      <td>5.50</td>\n",
       "      <td>5.75</td>\n",
       "      <td>6.000</td>\n",
       "      <td>6.2500</td>\n",
       "      <td>6.50</td>\n",
       "    </tr>\n",
       "    <tr>\n",
       "      <th>macular_thickness</th>\n",
       "      <td>10000.0</td>\n",
       "      <td>275.038068</td>\n",
       "      <td>8.714535</td>\n",
       "      <td>260.00</td>\n",
       "      <td>267.37</td>\n",
       "      <td>275.130</td>\n",
       "      <td>282.6500</td>\n",
       "      <td>290.00</td>\n",
       "    </tr>\n",
       "  </tbody>\n",
       "</table>\n",
       "</div>"
      ],
      "text/plain": [
       "                              count          mean           std     min  \\\n",
       "patient_id                  10000.0  50002.168800  28939.824980    4.00   \n",
       "age                         10000.0     53.872200     21.127563   18.00   \n",
       "visual_acuity_measurements  10000.0      0.098440      0.121684    0.00   \n",
       "iop                         10000.0     17.507527      4.356101   10.00   \n",
       "cdr                         10000.0      0.548437      0.144326    0.30   \n",
       "pachymetry                  10000.0    549.733974     28.902741  500.01   \n",
       "sensitivity                 10000.0      0.750052      0.143988    0.50   \n",
       "specificity                 10000.0      0.850237      0.086709    0.70   \n",
       "rnfl_thickness              10000.0     87.433765      7.176537   75.01   \n",
       "gcc_thickness               10000.0     62.514676      4.333931   55.00   \n",
       "retinal_volume              10000.0      6.000813      0.289753    5.50   \n",
       "macular_thickness           10000.0    275.038068      8.714535  260.00   \n",
       "\n",
       "                                 25%        50%         75%       max  \n",
       "patient_id                  24660.25  50091.500  74829.2500  99992.00  \n",
       "age                            36.00     54.000     72.0000     90.00  \n",
       "visual_acuity_measurements      0.00      0.000      0.1000      0.30  \n",
       "iop                            13.76     17.485     21.3000     25.00  \n",
       "cdr                             0.42      0.550      0.6700      0.80  \n",
       "pachymetry                    524.59    549.335    574.9725    599.99  \n",
       "sensitivity                     0.63      0.750      0.8700      1.00  \n",
       "specificity                     0.77      0.850      0.9200      1.00  \n",
       "rnfl_thickness                 81.28     87.380     93.6400    100.00  \n",
       "gcc_thickness                  58.82     62.520     66.2400     70.00  \n",
       "retinal_volume                  5.75      6.000      6.2500      6.50  \n",
       "macular_thickness             267.37    275.130    282.6500    290.00  "
      ]
     },
     "execution_count": 48,
     "metadata": {},
     "output_type": "execute_result"
    }
   ],
   "source": [
    "df.describe().T"
   ]
  },
  {
   "cell_type": "code",
   "execution_count": 49,
   "id": "84bf7678",
   "metadata": {},
   "outputs": [],
   "source": [
    "df.to_csv('../data/processed/EDA & Cleaning.csv')"
   ]
  },
  {
   "cell_type": "code",
   "execution_count": null,
   "id": "fd3de71c",
   "metadata": {},
   "outputs": [],
   "source": []
  }
 ],
 "metadata": {
  "kernelspec": {
   "display_name": "Python 3 (ipykernel)",
   "language": "python",
   "name": "python3"
  },
  "language_info": {
   "codemirror_mode": {
    "name": "ipython",
    "version": 3
   },
   "file_extension": ".py",
   "mimetype": "text/x-python",
   "name": "python",
   "nbconvert_exporter": "python",
   "pygments_lexer": "ipython3",
   "version": "3.11.5"
  }
 },
 "nbformat": 4,
 "nbformat_minor": 5
}
